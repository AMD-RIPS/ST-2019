{
 "cells": [
  {
   "cell_type": "code",
   "execution_count": 3,
   "metadata": {},
   "outputs": [],
   "source": [
    "from sklearn.metrics import confusion_matrix"
   ]
  },
  {
   "cell_type": "code",
   "execution_count": 12,
   "metadata": {},
   "outputs": [],
   "source": [
    "import ou_model as om\n",
    "import numpy as np"
   ]
  },
  {
   "cell_type": "markdown",
   "metadata": {},
   "source": [
    "## Stuttering Test"
   ]
  },
  {
   "cell_type": "code",
   "execution_count": 21,
   "metadata": {
    "scrolled": true
   },
   "outputs": [
    {
     "name": "stdout",
     "output_type": "stream",
     "text": [
      "Transform Time for stuttering:  8.664623022079468\n",
      "Remaining Time for stuttering:  0.22960400581359863\n",
      "185\n"
     ]
    },
    {
     "data": {
      "text/plain": [
       "array([[95,  5],\n",
       "       [10, 90]])"
      ]
     },
     "execution_count": 21,
     "metadata": {},
     "output_type": "execute_result"
    }
   ],
   "source": [
    "X_test_normal = np.load('X_test_normal.npy')\n",
    "X_test_glitch = np.load('X_test_stuttering.npy')\n",
    "X_test = np.concatenate((X_test_normal[122:222], X_test_glitch[50:150]))\n",
    "y_test = np.ones(200)\n",
    "y_test[0:100] = 0\n",
    "y_pred = om.test_stuttering(X_test)\n",
    "print((y_pred == y_test).sum())\n",
    "confusion_matrix(y_test, y_pred)"
   ]
  },
  {
   "cell_type": "markdown",
   "metadata": {},
   "source": [
    "## Triangulation Test"
   ]
  },
  {
   "cell_type": "code",
   "execution_count": 16,
   "metadata": {},
   "outputs": [
    {
     "name": "stderr",
     "output_type": "stream",
     "text": [
      "/Users/tou2/Downloads/Project/yy-ModelEnsemble/ou_model.py:27: RuntimeWarning: divide by zero encountered in log\n",
      "  magnitude_spectrum = 20*np.log(np.abs(fshift))\n"
     ]
    },
    {
     "name": "stdout",
     "output_type": "stream",
     "text": [
      "Transform Time for triangulation:  9.187949895858765\n",
      "Remaining Time for triangulation:  0.3305940628051758\n",
      "200\n"
     ]
    },
    {
     "data": {
      "text/plain": [
       "array([[100,   0],\n",
       "       [  0, 100]])"
      ]
     },
     "execution_count": 16,
     "metadata": {},
     "output_type": "execute_result"
    }
   ],
   "source": [
    "X_test_normal = np.load('X_test_normal.npy')\n",
    "X_test_glitch = np.load('X_test_triangulation.npy')\n",
    "X_test = np.concatenate((X_test_normal[255:355], X_test_glitch[0:100]))\n",
    "y_test = np.ones(200)\n",
    "y_test[0:100] = 0\n",
    "y_pred = om.test_triangulation(X_test)\n",
    "print((y_pred == y_test).sum())\n",
    "confusion_matrix(y_test, y_pred)"
   ]
  },
  {
   "cell_type": "markdown",
   "metadata": {},
   "source": [
    "## Square Patch Test"
   ]
  },
  {
   "cell_type": "code",
   "execution_count": 32,
   "metadata": {},
   "outputs": [
    {
     "name": "stdout",
     "output_type": "stream",
     "text": [
      "Transform Time for square patch:  10.2184739112854\n",
      "Remaining Time for square patch:  0.2304079532623291\n",
      "126\n"
     ]
    },
    {
     "data": {
      "text/plain": [
       "array([[58, 42],\n",
       "       [32, 68]])"
      ]
     },
     "execution_count": 32,
     "metadata": {},
     "output_type": "execute_result"
    }
   ],
   "source": [
    "X_test_normal = np.load('X_test_normal.npy')\n",
    "X_test_glitch = np.load('X_test_square_patch.npy')\n",
    "X_test = np.concatenate((X_test_normal[120:220], X_test_glitch[0:100]))\n",
    "y_test = np.ones(200)\n",
    "y_test[0:100] = 0\n",
    "y_pred = om.test_square_patch(X_test)\n",
    "print((y_pred == y_test).sum())\n",
    "confusion_matrix(y_test, y_pred)"
   ]
  },
  {
   "cell_type": "markdown",
   "metadata": {},
   "source": [
    "## Shape Test"
   ]
  },
  {
   "cell_type": "code",
   "execution_count": 9,
   "metadata": {},
   "outputs": [
    {
     "name": "stdout",
     "output_type": "stream",
     "text": [
      "Transform Time for shapes:  9.691434144973755\n",
      "Remaining Time for shapes:  0.29584598541259766\n",
      "162\n"
     ]
    },
    {
     "data": {
      "text/plain": [
       "array([[80, 20],\n",
       "       [18, 82]])"
      ]
     },
     "execution_count": 9,
     "metadata": {},
     "output_type": "execute_result"
    }
   ],
   "source": [
    "X_test_normal = np.load('X_test_normal.npy')\n",
    "X_test_glitch = np.load('X_test_shape.npy')\n",
    "X_test = np.concatenate((X_test_normal[0:100], X_test_glitch[0:100]))\n",
    "y_test = np.ones(200)\n",
    "y_test[0:100] = 0\n",
    "y_pred = om.test_shape(X_test)\n",
    "print((y_pred == y_test).sum())\n",
    "confusion_matrix(y_test, y_pred)"
   ]
  }
 ],
 "metadata": {
  "kernelspec": {
   "display_name": "Python 3",
   "language": "python",
   "name": "python3"
  },
  "language_info": {
   "codemirror_mode": {
    "name": "ipython",
    "version": 3
   },
   "file_extension": ".py",
   "mimetype": "text/x-python",
   "name": "python",
   "nbconvert_exporter": "python",
   "pygments_lexer": "ipython3",
   "version": "3.7.3"
  }
 },
 "nbformat": 4,
 "nbformat_minor": 2
}
